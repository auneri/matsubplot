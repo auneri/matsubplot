{
 "cells": [
  {
   "cell_type": "code",
   "execution_count": null,
   "metadata": {},
   "outputs": [],
   "source": [
    "import matsubplots as msp\n",
    "import numpy as np"
   ]
  },
  {
   "cell_type": "code",
   "execution_count": null,
   "metadata": {},
   "outputs": [],
   "source": [
    "shape = 100, 150\n",
    "image = np.arange(np.prod(shape)).reshape(shape) / (np.prod(shape) - 1)"
   ]
  },
  {
   "cell_type": "markdown",
   "metadata": {},
   "source": [
    "Better [`matplotlib.pyplot.subplots`](https://matplotlib.org/stable/api/_as_gen/matplotlib.pyplot.subplots.html)."
   ]
  },
  {
   "cell_type": "code",
   "execution_count": null,
   "metadata": {},
   "outputs": [],
   "source": [
    "fig, axs = msp.subplots(shape=(3,2), size=(1.5,1), pad=0.1)\n",
    "for ax in axs.ravel():\n",
    "    ax.imshow(image)"
   ]
  },
  {
   "cell_type": "code",
   "execution_count": null,
   "metadata": {},
   "outputs": [],
   "source": [
    "fig, axs = msp.subplots(shape=(3,2), size=(1.5,1), pad=(0.1,0.2), cbar_mode='edge')\n",
    "for ax in axs.ravel():\n",
    "    im = ax.imshow(image)\n",
    "    fig.colorbar(im, cax=ax.cax)"
   ]
  },
  {
   "cell_type": "markdown",
   "metadata": {},
   "source": [
    "Better [`mpl_toolkits.axes_grid1.Grid`](https://matplotlib.org/stable/api/_as_gen/mpl_toolkits.axes_grid1.axes_grid.Grid.html)."
   ]
  },
  {
   "cell_type": "code",
   "execution_count": null,
   "metadata": {},
   "outputs": [],
   "source": [
    "fig, axs = msp.grid(shape=(3,2), size=(1.5,1), pad=0.1)\n",
    "for ax in axs.ravel():\n",
    "    ax.imshow(image)"
   ]
  },
  {
   "cell_type": "markdown",
   "metadata": {},
   "source": [
    "Better [`mpl_toolkits.axes_grid1.ImageGrid`](https://matplotlib.org/stable/api/_as_gen/mpl_toolkits.axes_grid1.axes_grid.ImageGrid.html)."
   ]
  },
  {
   "cell_type": "code",
   "execution_count": null,
   "metadata": {},
   "outputs": [],
   "source": [
    "fig, axs = msp.imagegrid(shape=(3,2), size=(1.5,1), pad=0.1, cbar_mode='single')\n",
    "for ax in axs.ravel():\n",
    "    im = ax.imshow(image)\n",
    "    ax.cax.colorbar(im)"
   ]
  }
 ],
 "metadata": {
  "language_info": {
   "name": "python"
  }
 },
 "nbformat": 4,
 "nbformat_minor": 4
}
