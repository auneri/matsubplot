{
 "cells": [
  {
   "cell_type": "code",
   "execution_count": null,
   "metadata": {},
   "outputs": [],
   "source": [
    "import matsubplots as msp\n",
    "import numpy as np"
   ]
  },
  {
   "cell_type": "markdown",
   "metadata": {},
   "source": [
    "Orthogonal slices of a 3D image with isotropic extent and grid spacing."
   ]
  },
  {
   "cell_type": "code",
   "execution_count": null,
   "metadata": {},
   "outputs": [],
   "source": [
    "shape = 6, 6, 6\n",
    "image = np.arange(np.prod(shape)).reshape(shape) / (np.prod(shape) - 1)\n",
    "\n",
    "fig, axs = msp.subplots(shape=image.ndim, size=2, pad=0.1, cbar_mode='single', xticks=(), yticks=())\n",
    "viewer = msp.orthoview(axs, image, clim=(0,1))"
   ]
  },
  {
   "cell_type": "markdown",
   "metadata": {},
   "source": [
    "Anisotropic extent with isotropic spacing."
   ]
  },
  {
   "cell_type": "code",
   "execution_count": null,
   "metadata": {},
   "outputs": [],
   "source": [
    "shape = 3, 6, 12\n",
    "spacing = 0.25, 0.5, 1\n",
    "image = np.arange(np.prod(shape)).reshape(shape) / (np.prod(shape) - 1)\n",
    "\n",
    "fig, axs = msp.subplots(shape=image.ndim, size=2, pad=0.1, cbar_mode='single', xticks=(), yticks=())\n",
    "viewer = msp.orthoview(axs, image, spacing, clim=(0,1))"
   ]
  },
  {
   "cell_type": "markdown",
   "metadata": {},
   "source": [
    "Anisotropic extent and spacing."
   ]
  },
  {
   "cell_type": "code",
   "execution_count": null,
   "metadata": {},
   "outputs": [],
   "source": [
    "shape = 4, 5, 6\n",
    "spacing = 0.25, 0.5, 1\n",
    "image = np.arange(np.prod(shape)).reshape(shape) / (np.prod(shape) - 1)\n",
    "\n",
    "fig, axs = msp.subplots(shape=image.ndim, size=2, pad=0.1, cbar_mode='single', xticks=(), yticks=())\n",
    "viewer = msp.orthoview(axs, image, spacing, clim=(0,1))"
   ]
  },
  {
   "cell_type": "markdown",
   "metadata": {},
   "source": [
    "Use `backend='interactive'` with interactive backends like `qt` and `widget`.  \n",
    "Use `backend='static'` to provide interactivity via `ipywidgets`."
   ]
  },
  {
   "cell_type": "code",
   "execution_count": null,
   "metadata": {},
   "outputs": [],
   "source": [
    "fig, axs = msp.subplots(shape=image.ndim, size=2, pad=0.1, cbar_mode='single', xticks=(), yticks=(), ioff=True)\n",
    "msp.orthoview(axs, image, spacing, clim=(0,1), backend='static')"
   ]
  }
 ],
 "metadata": {
  "language_info": {
   "name": "python"
  }
 },
 "nbformat": 4,
 "nbformat_minor": 4
}
