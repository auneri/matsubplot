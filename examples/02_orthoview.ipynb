{
 "cells": [
  {
   "cell_type": "code",
   "execution_count": null,
   "metadata": {},
   "outputs": [],
   "source": [
    "import matsubplots as msp\n",
    "import numpy as np"
   ]
  },
  {
   "cell_type": "markdown",
   "metadata": {},
   "source": [
    "Orthogonal slices of a 3D image with isotropic extent and grid spacing."
   ]
  },
  {
   "cell_type": "code",
   "execution_count": null,
   "metadata": {},
   "outputs": [],
   "source": [
    "shape = 6, 6, 6\n",
    "image = np.arange(np.prod(shape)).reshape(shape) / (np.prod(shape) - 1)\n",
    "\n",
    "fig, axs = msp.subplots(shape=image.ndim, size=2, pad=0.1, cbar_mode='single', xticks=(), yticks=())\n",
    "msp.orthoview(axs, image, clim=(0,1))"
   ]
  },
  {
   "cell_type": "markdown",
   "metadata": {},
   "source": [
    "Anisotropic extent with isotropic spacing."
   ]
  },
  {
   "cell_type": "code",
   "execution_count": null,
   "metadata": {},
   "outputs": [],
   "source": [
    "shape = 3, 6, 12\n",
    "spacing = 0.25, 0.5, 1\n",
    "image = np.arange(np.prod(shape)).reshape(shape) / (np.prod(shape) - 1)\n",
    "\n",
    "fig, axs = msp.subplots(shape=image.ndim, size=2, pad=0.1, cbar_mode='single', xticks=(), yticks=())\n",
    "msp.orthoview(axs, image, spacing, clim=(0,1))"
   ]
  },
  {
   "cell_type": "markdown",
   "metadata": {},
   "source": [
    "Anisotropic extent and spacing."
   ]
  },
  {
   "cell_type": "code",
   "execution_count": null,
   "metadata": {},
   "outputs": [],
   "source": [
    "shape = 4, 5, 6\n",
    "spacing = 0.25, 0.5, 1\n",
    "image = np.arange(np.prod(shape)).reshape(shape) / (np.prod(shape) - 1)\n",
    "\n",
    "fig, axs = msp.subplots(shape=image.ndim, size=2, pad=0.1, cbar_mode='single', xticks=(), yticks=())\n",
    "msp.orthoview(axs, image, spacing, clim=(0,1))"
   ]
  },
  {
   "cell_type": "markdown",
   "metadata": {},
   "source": [
    "Use `backend='interactive'` with interactive backends like `qt` and `widget`.  \n",
    "Use `backend='static'` to provide interactivity via `ipywidgets`."
   ]
  },
  {
   "cell_type": "code",
   "execution_count": null,
   "metadata": {},
   "outputs": [],
   "source": [
    "fig, axs = msp.subplots(shape=image.ndim, size=2, pad=0.1, cbar_mode='single', xticks=(), yticks=(), ioff=True)\n",
    "msp.orthoview(axs, image, spacing, clim=(0,1), backend='static')"
   ]
  }
 ],
 "metadata": {
  "kernelspec": {
   "display_name": "Python 3.9.13",
   "language": "python",
   "name": "python3"
  },
  "language_info": {
   "codemirror_mode": {
    "name": "ipython",
    "version": 3
   },
   "file_extension": ".py",
   "mimetype": "text/x-python",
   "name": "python",
   "nbconvert_exporter": "python",
   "pygments_lexer": "ipython3",
   "version": "3.10.13"
  },
  "widgets": {
   "application/vnd.jupyter.widget-state+json": {
    "state": {},
    "version_major": 2,
    "version_minor": 0
   }
  }
 },
 "nbformat": 4,
 "nbformat_minor": 5
}
