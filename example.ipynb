{
 "cells": [
  {
   "cell_type": "code",
   "execution_count": null,
   "id": "1e9cff3c-ce02-4951-8c5c-1b6e53b23e6a",
   "metadata": {
    "tags": []
   },
   "outputs": [],
   "source": [
    "import matsubplots as msp\n",
    "import numpy as np"
   ]
  },
  {
   "cell_type": "code",
   "execution_count": null,
   "id": "3ed55b53-d1d8-4021-8693-92ce664c6ca6",
   "metadata": {
    "tags": []
   },
   "outputs": [],
   "source": [
    "image = np.arange(150 * 100).reshape(100, 150)"
   ]
  },
  {
   "cell_type": "markdown",
   "id": "9f92faf0-9b58-4a32-8dc7-35f36d69cb04",
   "metadata": {},
   "source": [
    "Better [`matplotlib.pyplot.subplots`](https://matplotlib.org/stable/api/_as_gen/matplotlib.pyplot.subplots.html):"
   ]
  },
  {
   "cell_type": "code",
   "execution_count": null,
   "id": "e8dda7c0-0101-4801-9625-ae269987839a",
   "metadata": {
    "tags": []
   },
   "outputs": [],
   "source": [
    "fig, axs = msp.subplots(shape=(3,2), size=(1.5,1), pad=(0.2,0.1))\n",
    "for ax in axs.ravel():\n",
    "    ax.imshow(image)"
   ]
  },
  {
   "cell_type": "markdown",
   "id": "ffb9a8d4-9241-42d7-9777-d1e4802bfe10",
   "metadata": {
    "execution": {
     "iopub.execute_input": "2022-07-20T18:57:55.713479Z",
     "iopub.status.busy": "2022-07-20T18:57:55.713479Z",
     "iopub.status.idle": "2022-07-20T18:57:55.741173Z",
     "shell.execute_reply": "2022-07-20T18:57:55.740172Z",
     "shell.execute_reply.started": "2022-07-20T18:57:55.713479Z"
    }
   },
   "source": [
    "Better [`mpl_toolkits.axes_grid1.Grid`](https://matplotlib.org/stable/api/_as_gen/mpl_toolkits.axes_grid1.axes_grid.Grid.html):"
   ]
  },
  {
   "cell_type": "code",
   "execution_count": null,
   "id": "c1fb25c3-2ef6-43ef-a2ef-8e61fe702bf5",
   "metadata": {
    "tags": []
   },
   "outputs": [],
   "source": [
    "fig, axs = msp.axesgrid(shape=(3,2), size=(1.5,1), pad=(0.2,0.1))\n",
    "for ax in axs.ravel():\n",
    "    ax.imshow(image)"
   ]
  },
  {
   "cell_type": "markdown",
   "id": "dcf6ff45-f40b-42ab-894c-9d50e0a228fa",
   "metadata": {},
   "source": [
    "Better [`mpl_toolkits.axes_grid1.ImageGrid`](https://matplotlib.org/stable/api/_as_gen/mpl_toolkits.axes_grid1.axes_grid.ImageGrid.html):"
   ]
  },
  {
   "cell_type": "code",
   "execution_count": null,
   "id": "1071f492-2332-4c9e-a409-627aa1943705",
   "metadata": {
    "tags": []
   },
   "outputs": [],
   "source": [
    "fig, axs = msp.imagegrid(shape=(3,2), size=(1.5,1), pad=(0.2,0.1))\n",
    "for ax in axs.ravel():\n",
    "    ax.imshow(image)"
   ]
  }
 ],
 "metadata": {
  "kernelspec": {
   "display_name": "Python 3 (ipykernel)",
   "language": "python",
   "name": "python3"
  },
  "language_info": {
   "codemirror_mode": {
    "name": "ipython",
    "version": 3
   },
   "file_extension": ".py",
   "mimetype": "text/x-python",
   "name": "python",
   "nbconvert_exporter": "python",
   "pygments_lexer": "ipython3",
   "version": "3.8.13"
  },
  "widgets": {
   "application/vnd.jupyter.widget-state+json": {
    "state": {},
    "version_major": 2,
    "version_minor": 0
   }
  }
 },
 "nbformat": 4,
 "nbformat_minor": 5
}
