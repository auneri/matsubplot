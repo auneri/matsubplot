{
 "cells": [
  {
   "cell_type": "code",
   "execution_count": null,
   "id": "1e9cff3c-ce02-4951-8c5c-1b6e53b23e6a",
   "metadata": {
    "tags": []
   },
   "outputs": [],
   "source": [
    "import matsubplots as msp\n",
    "import numpy as np"
   ]
  },
  {
   "cell_type": "code",
   "execution_count": null,
   "id": "3ed55b53-d1d8-4021-8693-92ce664c6ca6",
   "metadata": {
    "tags": []
   },
   "outputs": [],
   "source": [
    "shape = 100, 150\n",
    "image = np.arange(np.prod(shape)).reshape(shape) / (np.prod(shape) - 1)"
   ]
  },
  {
   "cell_type": "markdown",
   "id": "9f92faf0-9b58-4a32-8dc7-35f36d69cb04",
   "metadata": {},
   "source": [
    "Better [`matplotlib.pyplot.subplots`](https://matplotlib.org/stable/api/_as_gen/matplotlib.pyplot.subplots.html)."
   ]
  },
  {
   "cell_type": "code",
   "execution_count": null,
   "id": "e8dda7c0-0101-4801-9625-ae269987839a",
   "metadata": {
    "tags": []
   },
   "outputs": [],
   "source": [
    "fig, axs = msp.subplots(shape=(3,2), size=(1.5,1), pad=0.1)\n",
    "for ax in axs.ravel():\n",
    "    ax.imshow(image)"
   ]
  },
  {
   "cell_type": "markdown",
   "id": "ffb9a8d4-9241-42d7-9777-d1e4802bfe10",
   "metadata": {
    "execution": {
     "iopub.execute_input": "2022-07-20T18:57:55.713479Z",
     "iopub.status.busy": "2022-07-20T18:57:55.713479Z",
     "iopub.status.idle": "2022-07-20T18:57:55.741173Z",
     "shell.execute_reply": "2022-07-20T18:57:55.740172Z",
     "shell.execute_reply.started": "2022-07-20T18:57:55.713479Z"
    }
   },
   "source": [
    "Better [`mpl_toolkits.axes_grid1.Grid`](https://matplotlib.org/stable/api/_as_gen/mpl_toolkits.axes_grid1.axes_grid.Grid.html)."
   ]
  },
  {
   "cell_type": "code",
   "execution_count": null,
   "id": "c1fb25c3-2ef6-43ef-a2ef-8e61fe702bf5",
   "metadata": {
    "tags": []
   },
   "outputs": [],
   "source": [
    "fig, axs = msp.grid(shape=(3,2), size=(1.5,1), pad=0.1)\n",
    "for ax in axs.ravel():\n",
    "    ax.imshow(image)"
   ]
  },
  {
   "cell_type": "markdown",
   "id": "dcf6ff45-f40b-42ab-894c-9d50e0a228fa",
   "metadata": {},
   "source": [
    "Better [`mpl_toolkits.axes_grid1.ImageGrid`](https://matplotlib.org/stable/api/_as_gen/mpl_toolkits.axes_grid1.axes_grid.ImageGrid.html)."
   ]
  },
  {
   "cell_type": "code",
   "execution_count": null,
   "id": "1071f492-2332-4c9e-a409-627aa1943705",
   "metadata": {
    "tags": []
   },
   "outputs": [],
   "source": [
    "fig, axs = msp.imagegrid(shape=(3,2), size=(1.5,1), pad=0.1, cbar_mode='single')\n",
    "for ax in axs.ravel():\n",
    "    im = ax.imshow(image)\n",
    "    ax.cax.colorbar(im)"
   ]
  },
  {
   "cell_type": "markdown",
   "id": "a3fad8d5-394c-46f3-97b2-865cc9a69057",
   "metadata": {},
   "source": [
    "3D image, isotropic."
   ]
  },
  {
   "cell_type": "code",
   "execution_count": null,
   "id": "cbb9a02b-8474-4fa1-a718-e22fbb6933dd",
   "metadata": {
    "tags": []
   },
   "outputs": [],
   "source": [
    "shape = 6, 6, 6\n",
    "image = np.arange(np.prod(shape)).reshape(shape) / (np.prod(shape) - 1)\n",
    "\n",
    "fig, axs = msp.subplots(shape=image.ndim, size=2.5, pad=0.1, cbar_mode='single', xticks=(), yticks=())\n",
    "for i, ax in enumerate(axs.ravel()):\n",
    "    slice_ = np.rollaxis(image, i)[image.shape[i] // 2]\n",
    "    im = ax.imshow(slice_, cmap='gray', clim=(0,1))\n",
    "    fig.colorbar(im, cax=ax.cax)"
   ]
  },
  {
   "cell_type": "markdown",
   "id": "9b4ab1e0-9495-4572-aa40-ed6359a3a19f",
   "metadata": {},
   "source": [
    "3D image, anisotropic."
   ]
  },
  {
   "cell_type": "code",
   "execution_count": null,
   "id": "53b8d23b-8cf7-4294-838d-d998cb04334b",
   "metadata": {
    "tags": []
   },
   "outputs": [],
   "source": [
    "shape = 3, 6, 12\n",
    "spacing = 0.25, 0.5, 1\n",
    "image = np.arange(np.prod(shape)).reshape(shape) / (np.prod(shape) - 1)\n",
    "\n",
    "fig, axs = msp.subplots(shape=image.ndim, size=2.5, pad=0.1, cbar_mode='single', xticks=(), yticks=())\n",
    "for i, ax in enumerate(axs.ravel()):\n",
    "    slice_ = np.rollaxis(image, i)[image.shape[i] // 2]\n",
    "    aspect = np.divide(*np.asarray(spacing)[::-1][np.arange(len(spacing)) != i])\n",
    "    im = ax.imshow(slice_, aspect=aspect, cmap='gray', clim=(0,1))\n",
    "    fig.colorbar(im, cax=ax.cax)"
   ]
  }
 ],
 "metadata": {
  "kernelspec": {
   "display_name": "Python 3 (ipykernel)",
   "language": "python",
   "name": "python3"
  },
  "language_info": {
   "codemirror_mode": {
    "name": "ipython",
    "version": 3
   },
   "file_extension": ".py",
   "mimetype": "text/x-python",
   "name": "python",
   "nbconvert_exporter": "python",
   "pygments_lexer": "ipython3",
   "version": "3.8.13"
  },
  "widgets": {
   "application/vnd.jupyter.widget-state+json": {
    "state": {},
    "version_major": 2,
    "version_minor": 0
   }
  }
 },
 "nbformat": 4,
 "nbformat_minor": 5
}
